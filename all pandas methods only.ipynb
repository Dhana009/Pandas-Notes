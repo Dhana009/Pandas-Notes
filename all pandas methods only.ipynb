{
 "cells": [
  {
   "cell_type": "code",
   "execution_count": 1,
   "id": "4b354223",
   "metadata": {},
   "outputs": [],
   "source": [
    "import pandas as pd\n",
    "import numpy as np\n",
    "import seaborn as sns"
   ]
  },
  {
   "cell_type": "markdown",
   "id": "5bce641f",
   "metadata": {},
   "source": [
    "# loading data"
   ]
  },
  {
   "cell_type": "code",
   "execution_count": null,
   "id": "29b75648",
   "metadata": {},
   "outputs": [],
   "source": [
    "Load File.\n",
    "\n",
    "dataframe = pd.read_csv('filename.csv') # Loading data from a CSV file\n",
    "dataframe = pd.read_excel('filename.xlsx') # Loading data from an Excel file\n",
    "dataframe = pd.read_json('filename.json') # Loading data from a Json file"
   ]
  },
  {
   "cell_type": "code",
   "execution_count": null,
   "id": "b4cb2e2b",
   "metadata": {},
   "outputs": [],
   "source": [
    "dataframe = sns.load_dataset('iris')\n",
    "df = dataframe"
   ]
  },
  {
   "cell_type": "markdown",
   "id": "bb805f8e",
   "metadata": {},
   "source": [
    "# view data"
   ]
  },
  {
   "cell_type": "code",
   "execution_count": null,
   "id": "c37ae272",
   "metadata": {},
   "outputs": [],
   "source": [
    "dataframe.head() # Displays the first 5 rows\n",
    "dataframe.head(10) # Displays the first 10 rows\n",
    "dataframe.tail() # Displays the last 5 rows\n",
    "dataframe.tail(10) # Displays the last 10 rows\n",
    "dataframe.nlargest(2, 'sepal_length') # Top n rows with the largest values\n",
    "dataframe.nsmallest(2, 'sepal_length') # Top n rows with the smallest values\n",
    "dataframe.info() # Displays the summary of the dataframe\n",
    "dataframe.describe() # Generates descriptive statistics\n",
    "dataframe.describe(include='all') # Generates descriptive statistics all the columns\n",
    "dataframe.dtypes # get the datatypes of the dataset\n",
    "dataframe.columns # GET THE NAMES OF THE COLUMNS IN DATASET\n",
    "dataframe.columnname.unique() # get all the unique values in the column\n",
    "dataframe.isnull().sum() # get the sum of null values in the dataset\n",
    "dataframe.column_name.value_counts() # get the sum of values present in dataset\n",
    "dataframe.columnname.astype(str) # convert the type of column to str\n",
    "np.where(dataframe.columnname.isnull()) # get the index of all null values in the column\n",
    "dataframe.columnname.fillna(5) # fill all the nan values in the column with this value\n",
    "sorted(df['Age'])[:10]\n",
    "df.Age.describe()\n",
    "pd.set_option('display.max_columns',85)\n",
    "pd.set_option('display.max_rows',85)"
   ]
  },
  {
   "cell_type": "markdown",
   "id": "914e8148",
   "metadata": {},
   "source": [
    "# data selection"
   ]
  },
  {
   "cell_type": "code",
   "execution_count": null,
   "id": "736e2a45",
   "metadata": {},
   "outputs": [],
   "source": [
    "dataframe['sepal_length'] # Selecting a single column\n",
    "dataframe[['sepal_length', 'petal_length']] # Selecting multiple columns\n",
    "dataframe[dataframe['petal_length']==max(dataframe['petal_length'])] # get the max values in the column\n",
    "dataframe.loc[0:, 'petal_length'] # Selecting a single cell using label indexing\n",
    "dataframe[dataframe['petal_length'] == 1.4].index # getting the index values\n",
    "dataframe.loc[dataframe['petal_length'] == 1.4] # Selecting a subset of Dataframe using label indexing\n",
    "dataframe.loc[dataframe['petal_length'] == 1.4, ['selected_column_name']] # Selecting a single column where condition matched\n",
    "dataframe.iloc[1, 4] # Selecting a single cell using integer indexing\n",
    "dataframe.iloc[1:10, 2:4] # Selecting multiple cells using integer indexing\n",
    "dataframe[dataframe.dtypes[dataframe.dtypes== 'float64'].index] # Select the columns which are true and give the table\n",
    "dataframe.dtypes[dataframe.dtypes== 'float64'].index # give the list of column names which are true\n",
    "dataframe.loc[:, dataframe.dtypes == 'float64'] # Select the columns which are true and give the table\n",
    "dataframe.iloc[np.where(dataframe['petal_length'].isnull())] # get the dataframe where the null values are present\n",
    "dataframe.loc[dataframe.petal_length[dataframe.petal_length.isnull()].index] # get the dataframe where the null values are present\n",
    "dataframe[dataframe['column_name'] > value] # Filtering data based on a condition\n",
    "dataframe.loc[dataframe['fare'] > 250] # filtering the data using loc\n",
    "dataframe[dataframe['fare'].isin([263.0,71.2833])] # Filtering data based on a list of values\n",
    "dataframe[(dataframe['fare'] > 250.0) | (dataframe['parch'] < 4)] # Filtering data based on multiple conditions\n",
    "dataframe[(dataframe['fare'] > 250.0) & (dataframe['parch'] < 4)] # Filtering data based on multiple conditions\n",
    "dataframe.groupby('sex').count() # groups the data based on sex and count the variables in sex\n",
    "dataframe.groupby('sex')['survived'].count() # group by sex and give count values for the survived column\n",
    "dataframe.groupby('sex')[['survived','age']].agg(['mean', 'sum', 'count']) # Grouping the DataFrame by the 'category' column and finding the mean, sum, and count of the 'value' column for each group\n",
    "pd.Categorical(dataframe.sex)  # converting the data type to categorical type\n",
    "pd.Categorical(dataframe.sex,categories=['male','female'],ordered=True)  # converting the data type to categorical type\n",
    "dataframe.age.apply(lambda x: x**2 ) # Grouping the DataFrame by the 'category' column and applying the custom function to each group"
   ]
  },
  {
   "cell_type": "markdown",
   "id": "485f66ce",
   "metadata": {},
   "source": [
    "# Data Manipulation"
   ]
  },
  {
   "cell_type": "code",
   "execution_count": null,
   "id": "f74a77bf",
   "metadata": {},
   "outputs": [],
   "source": [
    "dataframe['new'] = dataframe['age'] * dataframe['fare'] # Creating a new column by adding existing columns\n",
    "dataframe.drop(['new'], axis=1, inplace=True) # Dropping columns\n",
    "dataframe.drop_duplicates(subset=['new'], inplace=True) # Dropping duplicates\n",
    "dataframe.drop_duplicates(inplace=True) # Dropping duplicates\n",
    "dataframe.rename(columns={'new': 'new_name'}, inplace=True) # Renaming columns\n",
    "dataframe.replace(to_replace=1, value=1.0, inplace=True) # Replacing values\n",
    "dataframe.sort_values('new', ascending=True).head() # Sorting data by a single column\n",
    "dataframe.sort_values(['pclass', 'age'], ascending=[True, False]).head() # Sorting data by multiple columns\n",
    "dataframe.sort_index(ascending=False) # Sorting data by index\n",
    "dataframe.survived.value_counts() # counts the value in a specific column\n",
    "dataframe.sex.str.lower() # Converts all characters to lowercase.\n",
    "dataframe['class'].str.replace('Third', 'third') # Replacing text\n",
    "dataframe['class'].str.split('') # Splitting text into multiple columns\n",
    "dataframe['class'].str.len() # Length of the string\n",
    "dataframe['class'].str.cat(dataframe['who'], sep=' - ') # Concat two columns with seperator"
   ]
  },
  {
   "cell_type": "code",
   "execution_count": null,
   "id": "15d4277a",
   "metadata": {},
   "outputs": [],
   "source": []
  },
  {
   "cell_type": "code",
   "execution_count": null,
   "id": "8538abaa",
   "metadata": {},
   "outputs": [],
   "source": []
  },
  {
   "cell_type": "code",
   "execution_count": null,
   "id": "b0f5c0ed",
   "metadata": {},
   "outputs": [],
   "source": []
  }
 ],
 "metadata": {
  "kernelspec": {
   "display_name": "Python 3 (ipykernel)",
   "language": "python",
   "name": "python3"
  },
  "language_info": {
   "codemirror_mode": {
    "name": "ipython",
    "version": 3
   },
   "file_extension": ".py",
   "mimetype": "text/x-python",
   "name": "python",
   "nbconvert_exporter": "python",
   "pygments_lexer": "ipython3",
   "version": "3.9.12"
  }
 },
 "nbformat": 4,
 "nbformat_minor": 5
}
